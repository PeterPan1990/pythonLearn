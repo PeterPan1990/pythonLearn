{
 "metadata": {
  "name": "",
  "signature": "sha256:78e5f6163b1a454fdae72f220a5ef3b72b27c7d59265daaaa1775a671c93c0d0"
 },
 "nbformat": 3,
 "nbformat_minor": 0,
 "worksheets": [
  {
   "cells": [
    {
     "cell_type": "code",
     "collapsed": false,
     "input": [
      "# python script for json processing\n",
      "# author: Pan Yang\n",
      "# date: 2015/5/12"
     ],
     "language": "python",
     "metadata": {},
     "outputs": [],
     "prompt_number": 1
    },
    {
     "cell_type": "code",
     "collapsed": false,
     "input": [
      "# connect 3 json file to one \n",
      "# onling format tool for json: http://www.w3cschool.cc/tool/json/index.html\n",
      "# dataset: http://cs.stanford.edu/people/karpathy/deepimagesent/flickr8k.zip\n",
      "#          http://cs.stanford.edu/people/karpathy/deepimagesent/flickr30k.zip\n",
      "#          http://cs.stanford.edu/people/karpathy/deepimagesent/flickr30k.zip\n",
      "\n",
      "import json\n",
      "#import sys\n"
     ],
     "language": "python",
     "metadata": {},
     "outputs": [],
     "prompt_number": 35
    },
    {
     "cell_type": "code",
     "collapsed": false,
     "input": [
      "# deal with the flickr8k dataset 8000 samples\n",
      "with open('C:\\Users\\young\\Desktop\\json\\ckr8k_dataset.json', 'r') as fp:\n",
      "    json_flickr8k = json.load(fp)\n",
      "    \n",
      "# print json_flickr8k.keys() # [u'images', u'dataset'] data in images\n",
      "print len(json_flickr8k.get('images')) # length of flickr8k\n",
      "\n",
      "#print images_i\n",
      "print 'Done'"
     ],
     "language": "python",
     "metadata": {},
     "outputs": [
      {
       "output_type": "stream",
       "stream": "stdout",
       "text": [
        "8000\n",
        "Done\n"
       ]
      }
     ],
     "prompt_number": 51
    },
    {
     "cell_type": "code",
     "collapsed": false,
     "input": [
      "images_i = json_flickr8k.get('images')[7999] # look into the structure of each sample\n",
      "#print len(images_i.get('sentences'))\n",
      "#print images_i # unicode format\n",
      "print json.dumps(images_i)"
     ],
     "language": "python",
     "metadata": {},
     "outputs": [
      {
       "output_type": "stream",
       "stream": "stdout",
       "text": [
        "{\"filename\": \"3490736665_38710f4b91.jpg\", \"imgid\": 7999, \"sentences\": [{\"tokens\": [\"a\", \"big\", \"dog\", \"stands\", \"on\", \"his\", \"hand\", \"leg\", \"as\", \"tennis\", \"balls\", \"are\", \"thrown\", \"his\", \"direction\"], \"raw\": \"A big dog stands on his hand leg as tennis balls are thrown his direction .\", \"imgid\": 7999, \"sentid\": 39995}, {\"tokens\": [\"a\", \"brown\", \"and\", \"white\", \"dog\", \"in\", \"front\", \"of\", \"a\", \"shed\", \"overwhelmed\", \"by\", \"the\", \"onslaught\", \"of\", \"tennis\", \"balls\"], \"raw\": \"A brown and white dog in front of a shed overwhelmed by the onslaught of tennis balls .\", \"imgid\": 7999, \"sentid\": 39996}, {\"tokens\": [\"a\", \"brown\", \"and\", \"white\", \"dogs\", \"stands\", \"in\", \"front\", \"of\", \"a\", \"wooden\", \"building\", \"while\", \"tennis\", \"balls\", \"fly\", \"through\", \"the\", \"air\"], \"raw\": \"A brown and white dogs stands in front of a wooden building while tennis balls fly through the air .\", \"imgid\": 7999, \"sentid\": 39997}, {\"tokens\": [\"a\", \"dog\", \"jumps\", \"for\", \"several\", \"tennis\", \"balls\", \"thrown\", \"at\", \"him\"], \"raw\": \"A dog jumps for several tennis balls thrown at him .\", \"imgid\": 7999, \"sentid\": 39998}, {\"tokens\": [\"a\", \"dog\", \"stands\", \"on\", \"his\", \"hind\", \"legs\", \"amid\", \"a\", \"shower\", \"of\", \"tennis\", \"balls\"], \"raw\": \"A dog stands on his hind legs amid a shower of tennis balls .\", \"imgid\": 7999, \"sentid\": 39999}], \"split\": \"test\", \"sentids\": [39995, 39996, 39997, 39998, 39999]}\n"
       ]
      }
     ],
     "prompt_number": 37
    },
    {
     "cell_type": "code",
     "collapsed": false,
     "input": [
      "# deal with the flickr30k dataset 31014 samples\n",
      "with open('C:\\Users\\young\\Desktop\\json\\ckr30k_dataset.json', 'r') as fp:\n",
      "    json_flickr30k = json.load(fp)\n",
      "    \n",
      "# print json_flickr8k.keys() # [u'images', u'dataset'] data in images\n",
      "print len(json_flickr30k.get('images'))\n",
      "print 'Done'"
     ],
     "language": "python",
     "metadata": {},
     "outputs": [
      {
       "output_type": "stream",
       "stream": "stdout",
       "text": [
        "31014\n",
        "Done\n"
       ]
      }
     ],
     "prompt_number": 52
    },
    {
     "cell_type": "code",
     "collapsed": false,
     "input": [
      "# connect the flickr8k and flickr30k\n",
      "# connect the first 2000 of flickr30k for test\n",
      "merge_data = json_flickr8k\n",
      "merge_data['dataset'] = 'merge'\n",
      "len_flickr8k = 8000\n",
      "connect_num = len(json_flickr30k.get('images'))\n",
      "for i in xrange(connect_num):\n",
      "    dict_i = json_flickr30k.get('images')[i]\n",
      "    dict_i['imgid'] = len_flickr8k + i # change the imgid field\n",
      "    for j in xrange(5):  # change the sentences field\n",
      "        dict_i['sentences'][j]['imgid'] = len_flickr8k + i\n",
      "        dict_i['sentences'][j]['sentid'] = dict_i['imgid'] * 5 + j\n",
      "    dict_i['sentids'] = [dict_i['imgid'] * 5 + k for k in xrange(5)] # cheange the sentids field\n",
      "    merge_data.get('images').append(dict_i)\n",
      "print 'Done'"
     ],
     "language": "python",
     "metadata": {},
     "outputs": [
      {
       "output_type": "stream",
       "stream": "stdout",
       "text": [
        "Done\n"
       ]
      }
     ],
     "prompt_number": 42
    },
    {
     "cell_type": "code",
     "collapsed": false,
     "input": [
      "print len(merge_data.get('images'))"
     ],
     "language": "python",
     "metadata": {},
     "outputs": [
      {
       "output_type": "stream",
       "stream": "stdout",
       "text": [
        "39014\n"
       ]
      }
     ],
     "prompt_number": 53
    },
    {
     "cell_type": "code",
     "collapsed": false,
     "input": [
      "images_i = merge_data.get('images')[39013] # look into the structure of each sample\n",
      "#print len(images_i.get('sentences'))\n",
      "#print images_i # unicode format\n",
      "print json.dumps(images_i)"
     ],
     "language": "python",
     "metadata": {},
     "outputs": [
      {
       "output_type": "stream",
       "stream": "stdout",
       "text": [
        "{\"filename\": \"998845445.jpg\", \"imgid\": 39013, \"sentences\": [{\"tokens\": [\"a\", \"man\", \"in\", \"shorts\", \"and\", \"a\", \"hawaiian\", \"shirt\", \"leans\", \"over\", \"the\", \"rail\", \"of\", \"a\", \"pilot\", \"boat\", \"with\", \"fog\", \"and\", \"mountains\", \"in\", \"the\", \"background\"], \"raw\": \"A man in shorts and a Hawaiian shirt leans over the rail of a pilot boat, with fog and mountains in the background.\", \"imgid\": 39013, \"sentid\": 195065}, {\"tokens\": [\"a\", \"young\", \"man\", \"hanging\", \"over\", \"the\", \"side\", \"of\", \"a\", \"boat\", \"which\", \"is\", \"in\", \"a\", \"like\", \"with\", \"fog\", \"rolling\", \"over\", \"a\", \"hill\", \"behind\", \"it\"], \"raw\": \"A young man hanging over the side of a boat, which is in a like with fog rolling over a hill behind it.\", \"imgid\": 39013, \"sentid\": 195066}, {\"tokens\": [\"a\", \"man\", \"is\", \"leaning\", \"off\", \"of\", \"the\", \"side\", \"of\", \"a\", \"blue\", \"and\", \"white\", \"boat\", \"as\", \"it\", \"sits\", \"in\", \"a\", \"body\", \"of\", \"water\"], \"raw\": \"A man is leaning off of the side of a blue and white boat as it sits in a body of water.\", \"imgid\": 39013, \"sentid\": 195067}, {\"tokens\": [\"a\", \"man\", \"riding\", \"a\", \"small\", \"boat\", \"in\", \"a\", \"harbor\", \"with\", \"fog\", \"and\", \"mountains\", \"in\", \"the\", \"background\"], \"raw\": \"A man riding a small boat in a harbor, with fog and mountains in the background.\", \"imgid\": 39013, \"sentid\": 195068}, {\"tokens\": [\"a\", \"man\", \"on\", \"a\", \"moored\", \"blue\", \"and\", \"white\", \"boat\", \"with\", \"hills\", \"and\", \"mist\", \"in\", \"the\", \"background\"], \"raw\": \"A man on a moored blue and white boat with hills and mist in the background.\", \"imgid\": 39013, \"sentid\": 195069}], \"split\": \"train\", \"sentids\": [195065, 195066, 195067, 195068, 195069]}\n"
       ]
      }
     ],
     "prompt_number": 46
    },
    {
     "cell_type": "code",
     "collapsed": false,
     "input": [
      "# dump the merge_data to a new json file\n",
      "#print merge_data.get('dataset')\n",
      "\n",
      "with open('C:\\Users\\young\\Desktop\\json\\merge_dataset.json', 'w') as fp:\n",
      "    fp.write(json.dumps(merge_data))\n",
      "    \n",
      "print 'Done'"
     ],
     "language": "python",
     "metadata": {},
     "outputs": [
      {
       "output_type": "stream",
       "stream": "stdout",
       "text": [
        "Done\n"
       ]
      }
     ],
     "prompt_number": 54
    },
    {
     "cell_type": "code",
     "collapsed": false,
     "input": [
      "#from scipy.io import loadmat, savemat\n",
      "\n",
      "#flickr8k_feature = loadmat('C:\\Users\\young\\Desktop\\json\\ckr8k_vgg_feats.mat')\n",
      "#flickr30k_feature = loadmat('C:\\Users\\young\\Desktop\\json\\ckr30k_vgg_feats.mat')\n",
      "\n",
      "#print type(flickr8k_feature)\n",
      "print 'Done'"
     ],
     "language": "python",
     "metadata": {},
     "outputs": [
      {
       "output_type": "stream",
       "stream": "stdout",
       "text": [
        "<type 'dict'>\n"
       ]
      }
     ],
     "prompt_number": 1
    },
    {
     "cell_type": "code",
     "collapsed": false,
     "input": [
      "#print flickr8k_feature.get('feats').shape\n",
      "# connect the feature file use matlab code"
     ],
     "language": "python",
     "metadata": {},
     "outputs": [
      {
       "output_type": "stream",
       "stream": "stdout",
       "text": [
        "(4096, 8000)\n"
       ]
      }
     ],
     "prompt_number": 3
    },
    {
     "cell_type": "code",
     "collapsed": false,
     "input": [
      "# deal with the coco dataset 123287 samples\n",
      "with open('C:\\Users\\young\\Desktop\\json\\coco_dataset.json') as fp:\n",
      "    json_coco = json.load(fp)\n",
      "    \n",
      "# print json_flickr8k.keys() # [u'images', u'dataset'] data in images\n",
      "print len(json_coco.get('images'))\n",
      "print 'Done'"
     ],
     "language": "python",
     "metadata": {},
     "outputs": [
      {
       "ename": "MemoryError",
       "evalue": "",
       "output_type": "pyerr",
       "traceback": [
        "\u001b[1;31m---------------------------------------------------------------------------\u001b[0m\n\u001b[1;31mMemoryError\u001b[0m                               Traceback (most recent call last)",
        "\u001b[1;32m<ipython-input-47-e8b7e3c5d909>\u001b[0m in \u001b[0;36m<module>\u001b[1;34m()\u001b[0m\n\u001b[0;32m      1\u001b[0m \u001b[1;31m# deal with the coco dataset 123287 samples\u001b[0m\u001b[1;33m\u001b[0m\u001b[1;33m\u001b[0m\u001b[0m\n\u001b[0;32m      2\u001b[0m \u001b[1;32mwith\u001b[0m \u001b[0mopen\u001b[0m\u001b[1;33m(\u001b[0m\u001b[1;34m'C:\\Users\\young\\Desktop\\json\\coco_dataset.json'\u001b[0m\u001b[1;33m)\u001b[0m \u001b[1;32mas\u001b[0m \u001b[0mfp\u001b[0m\u001b[1;33m:\u001b[0m\u001b[1;33m\u001b[0m\u001b[0m\n\u001b[1;32m----> 3\u001b[1;33m     \u001b[0mjson_coco\u001b[0m \u001b[1;33m=\u001b[0m \u001b[0mjson\u001b[0m\u001b[1;33m.\u001b[0m\u001b[0mload\u001b[0m\u001b[1;33m(\u001b[0m\u001b[0mfp\u001b[0m\u001b[1;33m)\u001b[0m\u001b[1;33m\u001b[0m\u001b[0m\n\u001b[0m\u001b[0;32m      4\u001b[0m \u001b[1;33m\u001b[0m\u001b[0m\n\u001b[0;32m      5\u001b[0m \u001b[1;31m# print json_flickr8k.keys() # [u'images', u'dataset'] data in images\u001b[0m\u001b[1;33m\u001b[0m\u001b[1;33m\u001b[0m\u001b[0m\n",
        "\u001b[1;32mD:\\Anaconda\\lib\\json\\__init__.pyc\u001b[0m in \u001b[0;36mload\u001b[1;34m(fp, encoding, cls, object_hook, parse_float, parse_int, parse_constant, object_pairs_hook, **kw)\u001b[0m\n\u001b[0;32m    288\u001b[0m         \u001b[0mparse_float\u001b[0m\u001b[1;33m=\u001b[0m\u001b[0mparse_float\u001b[0m\u001b[1;33m,\u001b[0m \u001b[0mparse_int\u001b[0m\u001b[1;33m=\u001b[0m\u001b[0mparse_int\u001b[0m\u001b[1;33m,\u001b[0m\u001b[1;33m\u001b[0m\u001b[0m\n\u001b[0;32m    289\u001b[0m         \u001b[0mparse_constant\u001b[0m\u001b[1;33m=\u001b[0m\u001b[0mparse_constant\u001b[0m\u001b[1;33m,\u001b[0m \u001b[0mobject_pairs_hook\u001b[0m\u001b[1;33m=\u001b[0m\u001b[0mobject_pairs_hook\u001b[0m\u001b[1;33m,\u001b[0m\u001b[1;33m\u001b[0m\u001b[0m\n\u001b[1;32m--> 290\u001b[1;33m         **kw)\n\u001b[0m\u001b[0;32m    291\u001b[0m \u001b[1;33m\u001b[0m\u001b[0m\n\u001b[0;32m    292\u001b[0m \u001b[1;33m\u001b[0m\u001b[0m\n",
        "\u001b[1;32mD:\\Anaconda\\lib\\json\\__init__.pyc\u001b[0m in \u001b[0;36mloads\u001b[1;34m(s, encoding, cls, object_hook, parse_float, parse_int, parse_constant, object_pairs_hook, **kw)\u001b[0m\n\u001b[0;32m    336\u001b[0m             \u001b[0mparse_int\u001b[0m \u001b[1;32mis\u001b[0m \u001b[0mNone\u001b[0m \u001b[1;32mand\u001b[0m \u001b[0mparse_float\u001b[0m \u001b[1;32mis\u001b[0m \u001b[0mNone\u001b[0m \u001b[1;32mand\u001b[0m\u001b[1;33m\u001b[0m\u001b[0m\n\u001b[0;32m    337\u001b[0m             parse_constant is None and object_pairs_hook is None and not kw):\n\u001b[1;32m--> 338\u001b[1;33m         \u001b[1;32mreturn\u001b[0m \u001b[0m_default_decoder\u001b[0m\u001b[1;33m.\u001b[0m\u001b[0mdecode\u001b[0m\u001b[1;33m(\u001b[0m\u001b[0ms\u001b[0m\u001b[1;33m)\u001b[0m\u001b[1;33m\u001b[0m\u001b[0m\n\u001b[0m\u001b[0;32m    339\u001b[0m     \u001b[1;32mif\u001b[0m \u001b[0mcls\u001b[0m \u001b[1;32mis\u001b[0m \u001b[0mNone\u001b[0m\u001b[1;33m:\u001b[0m\u001b[1;33m\u001b[0m\u001b[0m\n\u001b[0;32m    340\u001b[0m         \u001b[0mcls\u001b[0m \u001b[1;33m=\u001b[0m \u001b[0mJSONDecoder\u001b[0m\u001b[1;33m\u001b[0m\u001b[0m\n",
        "\u001b[1;32mD:\\Anaconda\\lib\\json\\decoder.pyc\u001b[0m in \u001b[0;36mdecode\u001b[1;34m(self, s, _w)\u001b[0m\n\u001b[0;32m    364\u001b[0m \u001b[1;33m\u001b[0m\u001b[0m\n\u001b[0;32m    365\u001b[0m         \"\"\"\n\u001b[1;32m--> 366\u001b[1;33m         \u001b[0mobj\u001b[0m\u001b[1;33m,\u001b[0m \u001b[0mend\u001b[0m \u001b[1;33m=\u001b[0m \u001b[0mself\u001b[0m\u001b[1;33m.\u001b[0m\u001b[0mraw_decode\u001b[0m\u001b[1;33m(\u001b[0m\u001b[0ms\u001b[0m\u001b[1;33m,\u001b[0m \u001b[0midx\u001b[0m\u001b[1;33m=\u001b[0m\u001b[0m_w\u001b[0m\u001b[1;33m(\u001b[0m\u001b[0ms\u001b[0m\u001b[1;33m,\u001b[0m \u001b[1;36m0\u001b[0m\u001b[1;33m)\u001b[0m\u001b[1;33m.\u001b[0m\u001b[0mend\u001b[0m\u001b[1;33m(\u001b[0m\u001b[1;33m)\u001b[0m\u001b[1;33m)\u001b[0m\u001b[1;33m\u001b[0m\u001b[0m\n\u001b[0m\u001b[0;32m    367\u001b[0m         \u001b[0mend\u001b[0m \u001b[1;33m=\u001b[0m \u001b[0m_w\u001b[0m\u001b[1;33m(\u001b[0m\u001b[0ms\u001b[0m\u001b[1;33m,\u001b[0m \u001b[0mend\u001b[0m\u001b[1;33m)\u001b[0m\u001b[1;33m.\u001b[0m\u001b[0mend\u001b[0m\u001b[1;33m(\u001b[0m\u001b[1;33m)\u001b[0m\u001b[1;33m\u001b[0m\u001b[0m\n\u001b[0;32m    368\u001b[0m         \u001b[1;32mif\u001b[0m \u001b[0mend\u001b[0m \u001b[1;33m!=\u001b[0m \u001b[0mlen\u001b[0m\u001b[1;33m(\u001b[0m\u001b[0ms\u001b[0m\u001b[1;33m)\u001b[0m\u001b[1;33m:\u001b[0m\u001b[1;33m\u001b[0m\u001b[0m\n",
        "\u001b[1;32mD:\\Anaconda\\lib\\json\\decoder.pyc\u001b[0m in \u001b[0;36mraw_decode\u001b[1;34m(self, s, idx)\u001b[0m\n\u001b[0;32m    380\u001b[0m         \"\"\"\n\u001b[0;32m    381\u001b[0m         \u001b[1;32mtry\u001b[0m\u001b[1;33m:\u001b[0m\u001b[1;33m\u001b[0m\u001b[0m\n\u001b[1;32m--> 382\u001b[1;33m             \u001b[0mobj\u001b[0m\u001b[1;33m,\u001b[0m \u001b[0mend\u001b[0m \u001b[1;33m=\u001b[0m \u001b[0mself\u001b[0m\u001b[1;33m.\u001b[0m\u001b[0mscan_once\u001b[0m\u001b[1;33m(\u001b[0m\u001b[0ms\u001b[0m\u001b[1;33m,\u001b[0m \u001b[0midx\u001b[0m\u001b[1;33m)\u001b[0m\u001b[1;33m\u001b[0m\u001b[0m\n\u001b[0m\u001b[0;32m    383\u001b[0m         \u001b[1;32mexcept\u001b[0m \u001b[0mStopIteration\u001b[0m\u001b[1;33m:\u001b[0m\u001b[1;33m\u001b[0m\u001b[0m\n\u001b[0;32m    384\u001b[0m             \u001b[1;32mraise\u001b[0m \u001b[0mValueError\u001b[0m\u001b[1;33m(\u001b[0m\u001b[1;34m\"No JSON object could be decoded\"\u001b[0m\u001b[1;33m)\u001b[0m\u001b[1;33m\u001b[0m\u001b[0m\n",
        "\u001b[1;31mMemoryError\u001b[0m: "
       ]
      }
     ],
     "prompt_number": 47
    },
    {
     "cell_type": "code",
     "collapsed": false,
     "input": [],
     "language": "python",
     "metadata": {},
     "outputs": []
    }
   ],
   "metadata": {}
  }
 ]
}