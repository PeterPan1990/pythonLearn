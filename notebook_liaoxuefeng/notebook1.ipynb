{
 "metadata": {
  "name": "",
  "signature": "sha256:7e2d4ce3e549fbc21fa599b6b473391f1ac24728abcc83db1ee0bfbd2f70e4d7"
 },
 "nbformat": 3,
 "nbformat_minor": 0,
 "worksheets": [
  {
   "cells": [
    {
     "cell_type": "code",
     "collapsed": false,
     "input": [
      "#\uff01/usr/bin/env python\n",
      "#-*- coding: utf-8 -*-\n",
      "\n",
      "'A test module'\n",
      "\n",
      "__author__ = 'Peter Yang'\n",
      "\n",
      "import sys \n",
      "\n",
      "def test():\n",
      "    args = sys.argv\n",
      "    if len(args) == 1:\n",
      "        print 'hello, world!'\n",
      "    elif len(args) == 2:\n",
      "        print 'hello, %s' % args[1]\n",
      "    else:\n",
      "        print 'Too many arguments!'\n",
      "        \n",
      "if __name__ == '_main_':\n",
      "    test()"
     ],
     "language": "python",
     "metadata": {},
     "outputs": [],
     "prompt_number": 13
    },
    {
     "cell_type": "code",
     "collapsed": false,
     "input": [
      "def _private_1(name):\n",
      "    return 'Hello, %s' % name\n",
      "\n",
      "def _private_2(name):\n",
      "    return 'Hello, %s' % name\n",
      "\n",
      "def greeting(name):\n",
      "    if len(name) > 3:\n",
      "        return _private_1(name)\n",
      "    else:\n",
      "        return _private_2(name)"
     ],
     "language": "python",
     "metadata": {},
     "outputs": [],
     "prompt_number": 15
    },
    {
     "cell_type": "code",
     "collapsed": false,
     "input": [
      "import Image\n",
      "im = Image.open('mingxing0429.jpg')\n",
      "print im.format, im.size, im.mode\n",
      "im.thumbnail((100, 100))\n",
      "im.save('thumb.jpg', 'JPEG')"
     ],
     "language": "python",
     "metadata": {},
     "outputs": [
      {
       "output_type": "stream",
       "stream": "stdout",
       "text": [
        "JPEG (192, 168) RGB\n"
       ]
      }
     ],
     "prompt_number": 23
    },
    {
     "cell_type": "code",
     "collapsed": false,
     "input": [
      "from __future__ import unicode_literals\n",
      "\n",
      "print '\\'xxx\\' is unicode?', isinstance('xxx', unicode)\n",
      "print 'u\\'xxx\\' is unicode?', isinstance(u'xxx', unicode)\n",
      "print '\\'xxx\\' is str?', isinstance('xxx', str)\n",
      "print 'b\\'xxx\\' is str?', isinstance(b'xxx', str)"
     ],
     "language": "python",
     "metadata": {},
     "outputs": [
      {
       "output_type": "stream",
       "stream": "stdout",
       "text": [
        "'xxx' is unicode? True\n",
        "u'xxx' is unicode? True\n",
        "'xxx' is str? False\n",
        "b'xxx' is str? True\n"
       ]
      }
     ],
     "prompt_number": 24
    },
    {
     "cell_type": "code",
     "collapsed": false,
     "input": [
      "class Student(object):\n",
      "    def __init__(self, name, score):\n",
      "        self.name = name\n",
      "        self.score = score"
     ],
     "language": "python",
     "metadata": {},
     "outputs": [],
     "prompt_number": 37
    },
    {
     "cell_type": "code",
     "collapsed": false,
     "input": [
      "bart = Student('Young', 98)\n",
      "print bart.name, bart.score"
     ],
     "language": "python",
     "metadata": {},
     "outputs": [
      {
       "output_type": "stream",
       "stream": "stdout",
       "text": [
        "Young 98\n"
       ]
      }
     ],
     "prompt_number": 43
    },
    {
     "cell_type": "code",
     "collapsed": false,
     "input": [
      "class Student(object):\n",
      "    def __init__(self, name, score):\n",
      "        self.__name = name\n",
      "        self.__score = score\n",
      "        \n",
      "    def print_score(self):\n",
      "        print '%s: %s' % (self.__name, self.__score)"
     ],
     "language": "python",
     "metadata": {},
     "outputs": [],
     "prompt_number": 4
    },
    {
     "cell_type": "code",
     "collapsed": false,
     "input": [
      "bart = Student('Bart Simpson', 98)\n",
      "bart.print_score()\n",
      "\n",
      "print bart._Student__name\n",
      "#bart.__name = 'Young'\n",
      "#bart.print_score()"
     ],
     "language": "python",
     "metadata": {},
     "outputs": [
      {
       "output_type": "stream",
       "stream": "stdout",
       "text": [
        "Bart Simpson: 98\n",
        "Bart Simpson\n"
       ]
      }
     ],
     "prompt_number": 14
    },
    {
     "cell_type": "code",
     "collapsed": false,
     "input": [
      "# inberit , use the method of father\n",
      "class Animal(object):\n",
      "    def run(self):\n",
      "        print 'Animal is running...'\n",
      "        \n",
      "class Dog(Animal):\n",
      "    def run(self):\n",
      "        print 'Dof is running...'\n",
      "\n",
      "class Cat(Animal):\n",
      "    def run(self):\n",
      "        print 'Cat is running...'"
     ],
     "language": "python",
     "metadata": {},
     "outputs": [],
     "prompt_number": 19
    },
    {
     "cell_type": "code",
     "collapsed": false,
     "input": [
      "dog = Dog()\n",
      "dog.run()\n",
      "\n",
      "cat = Cat()\n",
      "cat.run()\n",
      "\n",
      "c = list()\n",
      "\n",
      "print isinstance(dog, Dog)\n",
      "print isinstance(cat, Dog)\n",
      "print isinstance(c, list)"
     ],
     "language": "python",
     "metadata": {},
     "outputs": [
      {
       "output_type": "stream",
       "stream": "stdout",
       "text": [
        "Dof is running...\n",
        "Cat is running...\n",
        "True\n",
        "False\n",
        "True\n"
       ]
      }
     ],
     "prompt_number": 23
    },
    {
     "cell_type": "code",
     "collapsed": false,
     "input": [
      "print type(dog)\n",
      "print type('abc') == type(124)\n",
      "\n",
      "import types\n",
      "print type('abc') == types.StringType\n",
      "print type(str)"
     ],
     "language": "python",
     "metadata": {},
     "outputs": [
      {
       "output_type": "stream",
       "stream": "stdout",
       "text": [
        "<class '__main__.Dog'>\n",
        "False\n",
        "True\n",
        "<type 'type'>\n"
       ]
      }
     ],
     "prompt_number": 32
    },
    {
     "cell_type": "code",
     "collapsed": false,
     "input": [
      "print dir(str)"
     ],
     "language": "python",
     "metadata": {},
     "outputs": [
      {
       "output_type": "stream",
       "stream": "stdout",
       "text": [
        "['__add__', '__class__', '__contains__', '__delattr__', '__doc__', '__eq__', '__format__', '__ge__', '__getattribute__', '__getitem__', '__getnewargs__', '__getslice__', '__gt__', '__hash__', '__init__', '__le__', '__len__', '__lt__', '__mod__', '__mul__', '__ne__', '__new__', '__reduce__', '__reduce_ex__', '__repr__', '__rmod__', '__rmul__', '__setattr__', '__sizeof__', '__str__', '__subclasshook__', '_formatter_field_name_split', '_formatter_parser', 'capitalize', 'center', 'count', 'decode', 'encode', 'endswith', 'expandtabs', 'find', 'format', 'index', 'isalnum', 'isalpha', 'isdigit', 'islower', 'isspace', 'istitle', 'isupper', 'join', 'ljust', 'lower', 'lstrip', 'partition', 'replace', 'rfind', 'rindex', 'rjust', 'rpartition', 'rsplit', 'rstrip', 'split', 'splitlines', 'startswith', 'strip', 'swapcase', 'title', 'translate', 'upper', 'zfill']\n"
       ]
      }
     ],
     "prompt_number": 33
    },
    {
     "cell_type": "code",
     "collapsed": false,
     "input": [
      "a = str('sdfs')\n",
      "print a\n",
      "print a.__getattribute__\n",
      "a.__getitem__\n",
      "\n",
      "print len('abc')\n",
      "print 'abc'.__len__()"
     ],
     "language": "python",
     "metadata": {},
     "outputs": [
      {
       "output_type": "stream",
       "stream": "stdout",
       "text": [
        "sdfs\n",
        "<method-wrapper '__getattribute__' of str object at 0x02EF52C0>\n",
        "3\n",
        "3\n"
       ]
      }
     ],
     "prompt_number": 45
    },
    {
     "cell_type": "code",
     "collapsed": false,
     "input": [
      "class Student(object):\n",
      "    __slots__ = ('name', 'age')\n",
      "\n",
      "s = Student()\n",
      "s.name = 'young'\n",
      "print s.name"
     ],
     "language": "python",
     "metadata": {},
     "outputs": [
      {
       "output_type": "stream",
       "stream": "stdout",
       "text": [
        "young\n"
       ]
      }
     ],
     "prompt_number": 48
    },
    {
     "cell_type": "code",
     "collapsed": false,
     "input": [
      "s = Student()\n",
      "s.name = 'young'\n",
      "s.age = '25'\n",
      "s.score = 98"
     ],
     "language": "python",
     "metadata": {},
     "outputs": [
      {
       "ename": "AttributeError",
       "evalue": "'Student' object has no attribute 'score'",
       "output_type": "pyerr",
       "traceback": [
        "\u001b[1;31m---------------------------------------------------------------------------\u001b[0m\n\u001b[1;31mAttributeError\u001b[0m                            Traceback (most recent call last)",
        "\u001b[1;32m<ipython-input-50-9542b651d0f3>\u001b[0m in \u001b[0;36m<module>\u001b[1;34m()\u001b[0m\n\u001b[0;32m      2\u001b[0m \u001b[0ms\u001b[0m\u001b[1;33m.\u001b[0m\u001b[0mname\u001b[0m \u001b[1;33m=\u001b[0m \u001b[1;34m'young'\u001b[0m\u001b[1;33m\u001b[0m\u001b[0m\n\u001b[0;32m      3\u001b[0m \u001b[0ms\u001b[0m\u001b[1;33m.\u001b[0m\u001b[0mage\u001b[0m \u001b[1;33m=\u001b[0m \u001b[1;34m'25'\u001b[0m\u001b[1;33m\u001b[0m\u001b[0m\n\u001b[1;32m----> 4\u001b[1;33m \u001b[0ms\u001b[0m\u001b[1;33m.\u001b[0m\u001b[0mscore\u001b[0m \u001b[1;33m=\u001b[0m \u001b[1;36m98\u001b[0m\u001b[1;33m\u001b[0m\u001b[0m\n\u001b[0m",
        "\u001b[1;31mAttributeError\u001b[0m: 'Student' object has no attribute 'score'"
       ]
      }
     ],
     "prompt_number": 50
    },
    {
     "cell_type": "code",
     "collapsed": false,
     "input": [
      "def set_age(self, age):\n",
      "    self.age = age\n",
      "from types import MethodType\n",
      "s.set_age = MethodType(set_age, Student)\n",
      "s.set_age(25)\n",
      "print s.age"
     ],
     "language": "python",
     "metadata": {},
     "outputs": [
      {
       "output_type": "stream",
       "stream": "stdout",
       "text": [
        "25\n"
       ]
      }
     ],
     "prompt_number": 47
    },
    {
     "cell_type": "code",
     "collapsed": false,
     "input": [
      "class Student(object):\n",
      "    def get_score(self):\n",
      "        return self._score\n",
      "    def set_score(self, value):\n",
      "        if not isinstance(value, int):\n",
      "            raise ValueError('score must be an integer!')\n",
      "        if value < 0 or value > 100:\n",
      "            raise ValueError('score must between 0~100!')\n",
      "        self._score = value"
     ],
     "language": "python",
     "metadata": {},
     "outputs": [],
     "prompt_number": 51
    },
    {
     "cell_type": "code",
     "collapsed": false,
     "input": [
      "s = Student()\n",
      "s.set_score(60)\n",
      "print s.get_score()\n",
      "s.set_score(600)\n",
      "print s.get_score()"
     ],
     "language": "python",
     "metadata": {},
     "outputs": [
      {
       "output_type": "stream",
       "stream": "stdout",
       "text": [
        "60\n"
       ]
      },
      {
       "ename": "ValueError",
       "evalue": "score must between 0~100!",
       "output_type": "pyerr",
       "traceback": [
        "\u001b[1;31m---------------------------------------------------------------------------\u001b[0m\n\u001b[1;31mValueError\u001b[0m                                Traceback (most recent call last)",
        "\u001b[1;32m<ipython-input-53-d06624637f98>\u001b[0m in \u001b[0;36m<module>\u001b[1;34m()\u001b[0m\n\u001b[0;32m      2\u001b[0m \u001b[0ms\u001b[0m\u001b[1;33m.\u001b[0m\u001b[0mset_score\u001b[0m\u001b[1;33m(\u001b[0m\u001b[1;36m60\u001b[0m\u001b[1;33m)\u001b[0m\u001b[1;33m\u001b[0m\u001b[0m\n\u001b[0;32m      3\u001b[0m \u001b[1;32mprint\u001b[0m \u001b[0ms\u001b[0m\u001b[1;33m.\u001b[0m\u001b[0mget_score\u001b[0m\u001b[1;33m(\u001b[0m\u001b[1;33m)\u001b[0m\u001b[1;33m\u001b[0m\u001b[0m\n\u001b[1;32m----> 4\u001b[1;33m \u001b[0ms\u001b[0m\u001b[1;33m.\u001b[0m\u001b[0mset_score\u001b[0m\u001b[1;33m(\u001b[0m\u001b[1;36m600\u001b[0m\u001b[1;33m)\u001b[0m\u001b[1;33m\u001b[0m\u001b[0m\n\u001b[0m\u001b[0;32m      5\u001b[0m \u001b[1;32mprint\u001b[0m \u001b[0ms\u001b[0m\u001b[1;33m.\u001b[0m\u001b[0mget_score\u001b[0m\u001b[1;33m(\u001b[0m\u001b[1;33m)\u001b[0m\u001b[1;33m\u001b[0m\u001b[0m\n",
        "\u001b[1;32m<ipython-input-51-1de566232589>\u001b[0m in \u001b[0;36mset_score\u001b[1;34m(self, value)\u001b[0m\n\u001b[0;32m      6\u001b[0m             \u001b[1;32mraise\u001b[0m \u001b[0mValueError\u001b[0m\u001b[1;33m(\u001b[0m\u001b[1;34m'score must be an integer!'\u001b[0m\u001b[1;33m)\u001b[0m\u001b[1;33m\u001b[0m\u001b[0m\n\u001b[0;32m      7\u001b[0m         \u001b[1;32mif\u001b[0m \u001b[0mvalue\u001b[0m \u001b[1;33m<\u001b[0m \u001b[1;36m0\u001b[0m \u001b[1;32mor\u001b[0m \u001b[0mvalue\u001b[0m \u001b[1;33m>\u001b[0m \u001b[1;36m100\u001b[0m\u001b[1;33m:\u001b[0m\u001b[1;33m\u001b[0m\u001b[0m\n\u001b[1;32m----> 8\u001b[1;33m             \u001b[1;32mraise\u001b[0m \u001b[0mValueError\u001b[0m\u001b[1;33m(\u001b[0m\u001b[1;34m'score must between 0~100!'\u001b[0m\u001b[1;33m)\u001b[0m\u001b[1;33m\u001b[0m\u001b[0m\n\u001b[0m\u001b[0;32m      9\u001b[0m         \u001b[0mself\u001b[0m\u001b[1;33m.\u001b[0m\u001b[0m_score\u001b[0m \u001b[1;33m=\u001b[0m \u001b[0mvalue\u001b[0m\u001b[1;33m\u001b[0m\u001b[0m\n",
        "\u001b[1;31mValueError\u001b[0m: score must between 0~100!"
       ]
      }
     ],
     "prompt_number": 53
    },
    {
     "cell_type": "code",
     "collapsed": false,
     "input": [
      "class Student(object):\n",
      "    \n",
      "    @property\n",
      "    def score(self):\n",
      "        return self._score\n",
      "    \n",
      "    @score.setter\n",
      "    def score(self, value):\n",
      "        if not isinstance(value, int):\n",
      "            raise ValueError('score must be an integer!')\n",
      "        if value < 0 or value > 100:\n",
      "            raise ValueError('score must between 0~100!')\n",
      "        self._score = value"
     ],
     "language": "python",
     "metadata": {},
     "outputs": [],
     "prompt_number": 54
    },
    {
     "cell_type": "code",
     "collapsed": false,
     "input": [],
     "language": "python",
     "metadata": {},
     "outputs": []
    }
   ],
   "metadata": {}
  }
 ]
}