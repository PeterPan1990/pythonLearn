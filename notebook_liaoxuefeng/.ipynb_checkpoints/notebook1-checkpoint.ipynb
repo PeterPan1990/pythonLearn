{
 "metadata": {
  "name": "",
  "signature": "sha256:b0979ce39d189aa2910f19aef26e7e2d4e6aedad0a9a9cf1bb26b9b906ed3388"
 },
 "nbformat": 3,
 "nbformat_minor": 0,
 "worksheets": [
  {
   "cells": [
    {
     "cell_type": "code",
     "collapsed": false,
     "input": [
      "#\uff01/usr/bin/env python\n",
      "#-*- coding: utf-8 -*-\n",
      "\n",
      "'A test module'\n",
      "\n",
      "__author__ = 'Peter Yang'\n",
      "\n",
      "import sys \n",
      "\n",
      "def test():\n",
      "    args = sys.argv\n",
      "    if len(args) == 1:\n",
      "        print 'hello, world!'\n",
      "    elif len(args) == 2:\n",
      "        print 'hello, %s' % args[1]\n",
      "    else:\n",
      "        print 'Too many arguments!'\n",
      "        \n",
      "if __name__ == '_main_':\n",
      "    test()"
     ],
     "language": "python",
     "metadata": {},
     "outputs": [],
     "prompt_number": 13
    },
    {
     "cell_type": "code",
     "collapsed": false,
     "input": [
      "def _private_1(name):\n",
      "    return 'Hello, %s' % name\n",
      "\n",
      "def _private_2(name):\n",
      "    return 'Hello, %s' % name\n",
      "\n",
      "def greeting(name):\n",
      "    if len(name) > 3:\n",
      "        return _private_1(name)\n",
      "    else:\n",
      "        return _private_2(name)"
     ],
     "language": "python",
     "metadata": {},
     "outputs": [],
     "prompt_number": 15
    },
    {
     "cell_type": "code",
     "collapsed": false,
     "input": [
      "import Image\n",
      "im = Image.open('mingxing0429.jpg')\n",
      "print im.format, im.size, im.mode\n",
      "im.thumbnail((100, 100))\n",
      "im.save('thumb.jpg', 'JPEG')"
     ],
     "language": "python",
     "metadata": {},
     "outputs": [
      {
       "output_type": "stream",
       "stream": "stdout",
       "text": [
        "JPEG (192, 168) RGB\n"
       ]
      }
     ],
     "prompt_number": 23
    },
    {
     "cell_type": "code",
     "collapsed": false,
     "input": [
      "from __future__ import unicode_literals\n",
      "\n",
      "print '\\'xxx\\' is unicode?', isinstance('xxx', unicode)\n",
      "print 'u\\'xxx\\' is unicode?', isinstance(u'xxx', unicode)\n",
      "print '\\'xxx\\' is str?', isinstance('xxx', str)\n",
      "print 'b\\'xxx\\' is str?', isinstance(b'xxx', str)"
     ],
     "language": "python",
     "metadata": {},
     "outputs": [
      {
       "output_type": "stream",
       "stream": "stdout",
       "text": [
        "'xxx' is unicode? True\n",
        "u'xxx' is unicode? True\n",
        "'xxx' is str? False\n",
        "b'xxx' is str? True\n"
       ]
      }
     ],
     "prompt_number": 24
    },
    {
     "cell_type": "code",
     "collapsed": false,
     "input": [
      "class Student(object):\n",
      "    def __init__(self, name, score):\n",
      "        self.name = name\n",
      "        self.score = score"
     ],
     "language": "python",
     "metadata": {},
     "outputs": [],
     "prompt_number": 37
    },
    {
     "cell_type": "code",
     "collapsed": false,
     "input": [
      "bart = Student('Young', 98)\n",
      "print bart.name, bart.score"
     ],
     "language": "python",
     "metadata": {},
     "outputs": [
      {
       "output_type": "stream",
       "stream": "stdout",
       "text": [
        "Young 98\n"
       ]
      }
     ],
     "prompt_number": 43
    },
    {
     "cell_type": "code",
     "collapsed": false,
     "input": [],
     "language": "python",
     "metadata": {},
     "outputs": []
    }
   ],
   "metadata": {}
  }
 ]
}