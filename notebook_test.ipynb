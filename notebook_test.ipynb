{
 "metadata": {
  "name": "",
  "signature": "sha256:7a3c81809fe3c3065ac997cafeee6f25afb731823b32a66c8c2d8fdea382041c"
 },
 "nbformat": 3,
 "nbformat_minor": 0,
 "worksheets": [
  {
   "cells": [
    {
     "cell_type": "code",
     "collapsed": false,
     "input": [
      "re = [118538, 241899, 329027, 387521, 426705, 453476, 474077, 492438, 511342, 540637, 592991, 691297, 898445, 1242377, 1681446, 2086381, 2555398, 3167263, 3730413, 4208079, 4507093, 4682132, 4797121, 4898060, 4960860, 4991477, 4998007, 4999483, 4999935, 5000000, 5000000, 5000000, 5000000]\n",
      "\n",
      "sum = 0\n",
      "for i in re:\n",
      "    sum = sum + i\n",
      "\n",
      "print sum / len(re)\n"
     ],
     "language": "python",
     "metadata": {},
     "outputs": [
      {
       "output_type": "stream",
       "stream": "stdout",
       "text": [
        "2686785\n"
       ]
      }
     ],
     "prompt_number": 9
    },
    {
     "cell_type": "code",
     "collapsed": false,
     "input": [],
     "language": "python",
     "metadata": {},
     "outputs": []
    }
   ],
   "metadata": {}
  }
 ]
}